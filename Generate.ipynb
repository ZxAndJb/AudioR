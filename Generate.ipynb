{
 "cells": [
  {
   "cell_type": "code",
   "execution_count": 16,
   "id": "initial_id",
   "metadata": {
    "collapsed": true,
    "ExecuteTime": {
     "end_time": "2024-06-07T15:51:31.858278700Z",
     "start_time": "2024-06-07T15:51:31.851393400Z"
    }
   },
   "outputs": [],
   "source": [
    "import json\n",
    "\n",
    "import numpy as np\n",
    "import scipy.io.wavfile as wav\n",
    "from typing import Iterable\n",
    "import librosa\n",
    "from matplotlib import pyplot as plt"
   ]
  },
  {
   "cell_type": "code",
   "outputs": [],
   "source": [
    "import itertools\n",
    "\n",
    "class wave:\n",
    "    def __init__(self, wave, frequency: list[int], sr):\n",
    "        self.sr = sr\n",
    "        self.wave = wave\n",
    "        self.frequency = frequency\n",
    "        self.text_description = None\n",
    "\n",
    "    def hann(self, window_size: int):\n",
    "        return np.hanning(window_size)\n",
    "\n",
    "    def concat(self, wavelist: Iterable, order: Iterable):\n",
    "        window = self.hann(0.4 * self.sr)\n",
    "        for i in range(len(wavelist)):\n",
    "            index = math.floor(0.2 * self.sr)\n",
    "            order_index = order[i]\n",
    "            if order_index!= 0:\n",
    "                wavelist[i].wave[:index] = wavelist[i].wave[:index] * window[:index]\n",
    "            if order_index != len(order) - 1:\n",
    "                wavelist[i].wave[-index:] = wavelist[i].wave[-index:] * window[index:]\n",
    "        sorted_list = sorted(wavelist, key=lambda i: order[wavelist.index(i)])\n",
    "        newwave = np.concatenate([e.wave for e in sorted_list])\n",
    "        frequency_list = [w.frequency for w in sorted_list]\n",
    "        frequencies = list(itertools.chain.from_iterable(frequency_list))\n",
    "        return wave(newwave, frequencies, sr=self.sr)\n",
    "\n",
    "    def superimpose(self, wavelist):\n",
    "        container = np.zeros_like(wavelist[0].wave, dtype=np.float64)\n",
    "        for i in range(len(wavelist)):\n",
    "            container += wavelist[i].wave\n",
    "        return wave(container, wavelist[0].frequency, sr=self.sr)\n",
    "\n",
    "    def energy_scale_linear(self, scale_factor):\n",
    "        assert scale_factor > 0, \"scale factor must be a positive number\"\n",
    "        scale = np.linspace(1, scale_factor, self.wave.shape[0])\n",
    "        return self.wave * scale\n",
    "\n",
    "    def displayspectrogram(self, spectrogram: np.ndarray):\n",
    "        librosa.display.specshow(spectrogram, sr=self.sr, y_axis='mel', hop_length=512, fmax=8820, x_axis='time')\n",
    "        plt.title('Mel Spectrogram')\n",
    "        plt.colorbar(format='%+2.0f dB')\n",
    "        plt.show()  # 显示图表\n",
    "\n",
    "    def spectrogram(self):\n",
    "        mel_spect = librosa.feature.melspectrogram(y=self.wave, sr=self.sr, hop_length=512, window='hann', n_mels=128)\n",
    "        mel_spect = librosa.power_to_db(mel_spect, ref=np.max)\n",
    "        return mel_spect\n",
    "\n",
    "    def plot_waveform(self):\n",
    "        time = np.arange(0, len(self.wave)) * (1.0 / self.sr)\n",
    "        plt.figure(figsize=(10, 4))  # 设置图形的尺寸\n",
    "        plt.plot(time, self.wave)  # 绘制波形图\n",
    "        plt.xlabel('Time')  # X轴标签\n",
    "        plt.ylabel('Amplitude')  # Y轴标签\n",
    "        plt.title('Waveform')  # 图表标题\n",
    "        plt.grid(True)  # 显示网格\n",
    "        plt.show()  # 显示图表\n",
    "\n",
    "    def save(self, filename: str):\n",
    "        wav.write(filename, self.sr, self.wave.astype(np.float32))\n",
    "\n",
    "\n",
    "    def load(self, filename: str, text):\n",
    "        sr, data = wav.read(filename)\n",
    "        self.sr = sr\n",
    "        self.wave = data\n",
    "        self.text_description = text\n",
    "        numbers = re.findall(r'\\d+', text)\n",
    "        self.frequency = numbers\n"
   ],
   "metadata": {
    "collapsed": false,
    "ExecuteTime": {
     "end_time": "2024-06-07T15:51:31.883222500Z",
     "start_time": "2024-06-07T15:51:31.877819300Z"
    }
   },
   "id": "c486abad7118b223",
   "execution_count": 17
  },
  {
   "cell_type": "code",
   "outputs": [],
   "source": [
    "from numpy import log\n",
    "from numpy import asarray, pi\n",
    "from scipy.signal import square, sawtooth\n",
    "\n",
    "\n",
    "class WaveGenerator():\n",
    "    def __init__(self, samplerate):\n",
    "        self.sr = samplerate\n",
    "        self.period = 2 * pi\n",
    "\n",
    "    def sawtooth(self, x, phase=None):\n",
    "        if phase is not None:\n",
    "            phase_offset = phase\n",
    "        else:\n",
    "            phase_offset = 0\n",
    "        return 2 * ((x + phase_offset) / self.period - np.floor(0.5 + (x + phase_offset) / self.period))\n",
    "\n",
    "    def Triangle(self, x, phase=None):\n",
    "        if phase is not None:\n",
    "            phase_offset = phase\n",
    "        else:\n",
    "            phase_offset = 0\n",
    "\n",
    "        x = (x + phase_offset) % self.period\n",
    "        if x <= self.period / 4:\n",
    "            y = (4 / self.period) * x\n",
    "        elif x > self.period / 4 and x <= self.period * 3 / 4:\n",
    "            y = 2 - (4 / self.period) * x\n",
    "        else:\n",
    "            y = -4 + (4 / self.period) * x\n",
    "        return y\n",
    "\n",
    "    def square(self, x, phase=None):\n",
    "        if phase is not None:\n",
    "            phase_offset = phase\n",
    "        else:\n",
    "            phase_offset = 0\n",
    "        return np.sign(np.sin(x + phase_offset))\n",
    "\n",
    "    def sin(self, x, phase=None):\n",
    "        if phase is not None:\n",
    "            phase_offset = phase\n",
    "        else:\n",
    "            phase_offset = 0\n",
    "        return np.sin(x + phase_offset)\n",
    "\n",
    "    def cons(self, *args):\n",
    "        return 1\n",
    "\n",
    "    def generatePerWav(self, function, frequency, amplitude, duration, phase=None):\n",
    "        if function == 'sin':\n",
    "            waveform = self.sin\n",
    "        elif function == 'square':\n",
    "            waveform = self.square\n",
    "        elif function == \"sawtooth\":\n",
    "            waveform = self.sawtooth\n",
    "        elif function == \"triangle\":\n",
    "            waveform = self.Triangle\n",
    "        elif function == \"cons\":\n",
    "            waveform = self.cons\n",
    "        else:\n",
    "            raise ValueError(\"please input a valid function name\")\n",
    "\n",
    "        wavetable_length = 25600\n",
    "        wavetable = np.zeros(wavetable_length)\n",
    "        output = np.zeros((duration * self.sr))\n",
    "        index = 0\n",
    "        index_increment = frequency * wavetable_length / self.sr\n",
    "\n",
    "        for n in range(wavetable_length):\n",
    "            wavetable[n] = waveform(2 * np.pi * n / wavetable_length, phase) * amplitude\n",
    "\n",
    "        for n in range(output.shape[0]):\n",
    "            output[n] = self.interpolate_linearly(wavetable, index)\n",
    "            index += index_increment\n",
    "            index %= wavetable_length\n",
    "        return output\n",
    "\n",
    "    def interpolate_linearly(self, wavetable, indx):\n",
    "        i = int(np.floor(indx))\n",
    "        next_i = (i + 1) % wavetable.shape[0]\n",
    "        left_weight = indx - i\n",
    "        right_weight = 1 - left_weight\n",
    "\n",
    "        return left_weight * wavetable[i] + right_weight * wavetable[next_i]\n",
    "\n",
    "    def generatechirp(self, wavetype, t, f0, f1, t1, method, amplitude=1, phase=0):\n",
    "        de = self.chirp_phase(t, f0, f1, t1, method)\n",
    "        phase = phase * pi / 180\n",
    "        if wavetype == \"sin\":\n",
    "            return amplitude * np.sin(de + phase)\n",
    "        elif wavetype == \"sawtooth\":\n",
    "            return amplitude * sawtooth(de + phase)\n",
    "        elif wavetype == \"square\":\n",
    "            return amplitude * square(de + phase)\n",
    "        else:\n",
    "            return None\n",
    "\n",
    "    def chirp_phase(self, t, f0, f1, t1, method='linear', vertex_zero=True):\n",
    "        \"\"\"\n",
    "        Calculate the phase used by `chirp` to generate its output.\n",
    "\n",
    "        See `chirp` for a description of the arguments.\n",
    "        \"\"\"\n",
    "        t = asarray(t)\n",
    "        f0 = float(f0)\n",
    "        t1 = float(t1)\n",
    "        f1 = float(f1)\n",
    "\n",
    "        if method in ['linear', 'lin', 'li']:\n",
    "            beta = (f1 - f0) / t1\n",
    "            phase = 2 * pi * (f0 * t + 0.5 * beta * t * t)\n",
    "\n",
    "        elif method in ['quadratic', 'quad', 'q']:\n",
    "            beta = (f1 - f0) / (t1 ** 2)\n",
    "            if vertex_zero:\n",
    "                phase = 2 * pi * (f0 * t + beta * t ** 3 / 3)\n",
    "            else:\n",
    "                phase = 2 * pi * (f1 * t + beta * ((t1 - t) ** 3 - t1 ** 3) / 3)\n",
    "\n",
    "        elif method in ['logarithmic', 'log', 'lo']:\n",
    "            if f0 * f1 <= 0.0:\n",
    "                raise ValueError(\"For a logarithmic chirp, f0 and f1 must be \"\n",
    "                                 \"nonzero and have the same sign.\")\n",
    "            if f0 == f1:\n",
    "                phase = 2 * pi * f0 * t\n",
    "            else:\n",
    "                beta = t1 / log(f1 / f0)\n",
    "                phase = 2 * pi * beta * f0 * (pow(f1 / f0, t / t1) - 1.0)\n",
    "\n",
    "        elif method in ['hyperbolic', 'hyp']:\n",
    "            if f0 == 0 or f1 == 0:\n",
    "                raise ValueError(\"For a hyperbolic chirp, f0 and f1 must be \"\n",
    "                                 \"nonzero.\")\n",
    "            if f0 == f1:\n",
    "                # Degenerate case: constant frequency.\n",
    "                phase = 2 * pi * f0 * t\n",
    "            else:\n",
    "                # Singular point: the instantaneous frequency blows up\n",
    "                # when t == sing.\n",
    "                sing = -f1 * t1 / (f0 - f1)\n",
    "                phase = 2 * pi * (-sing * f0) * log(np.abs(1 - t / sing))\n",
    "        else:\n",
    "            raise ValueError(\"method must be 'linear', 'quadratic', 'logarithmic',\"\n",
    "                             \" or 'hyperbolic', but a value of %r was given.\"\n",
    "                             % method)\n",
    "        return phase\n",
    "\n",
    "    def generateComposition(self, type, functions: list, frequency, amplitude: list, duration, phase, **kwargs):\n",
    "        assert len(functions) == len(amplitude), \"the length of functions and amplitude must be same\"\n",
    "        assert len(functions) <= 3 and len(functions) >= 1, \"Compound 3 wave clips at most\"\n",
    "        wavedict = dict()\n",
    "        for i in range(len(functions)):\n",
    "            wavedict[i] = self.generate(type, functions[i], frequency, amplitude[i], duration, phase, **kwargs)\n",
    "        newwave = wavedict[0].superimpose(list(wavedict.values()))\n",
    "        return newwave\n",
    "\n",
    "    def generate(self, type, functions, frequency: list, amplitude, duration, phase, **kwargs):\n",
    "        if type == \"chirp\":\n",
    "            method = kwargs[\"method\"]\n",
    "            if functions in [\"sin\", \"sawtooth\", \"square\"]:\n",
    "                if len(frequency) != 2:\n",
    "                    raise ValueError(\"The tuple should contain at least 2 numbers for frequency.\")\n",
    "                else:\n",
    "                    t = np.linspace(0, duration, self.sr * duration)\n",
    "                    wavedata = self.generatechirp(functions, t, frequency[0], frequency[1], duration, method, amplitude,\n",
    "                                                  phase)\n",
    "                    clip = wave(wavedata, frequency, self.sr)\n",
    "            else:\n",
    "                raise ValueError(\"function must be 'sin', 'sawtooth', 'square'\")\n",
    "\n",
    "        else:\n",
    "            ## generate normal periodical wave clip\n",
    "            wavedata = self.generatePerWav(functions, frequency[0], amplitude, duration, phase)\n",
    "            clip = wave(wavedata, list(frequency), self.sr)\n",
    "        return clip\n"
   ],
   "metadata": {
    "collapsed": false,
    "ExecuteTime": {
     "end_time": "2024-06-07T15:51:31.911464800Z",
     "start_time": "2024-06-07T15:51:31.899306600Z"
    }
   },
   "id": "5ee4de53a4d83333",
   "execution_count": 18
  },
  {
   "cell_type": "code",
   "outputs": [],
   "source": [
    "class Aperiodic_wave():\n",
    "\n",
    "    def triangle_pulse(self, cons_am, climax_am, duration, start_time, end_time, samplerate): \n",
    "        t = np.linspace(0, duration, int(samplerate * duration))\n",
    "        waveform = np.full(t.shape, cons_am,dtype=np.float32)\n",
    "        start_sample = int(start_time * samplerate)\n",
    "        end_sample = int(end_time * samplerate)\n",
    "        climax_point = int(np.floor((start_sample + end_sample)/2))\n",
    "        waveform[start_sample:climax_point] = np.linspace(waveform[start_sample], climax_am, climax_point - start_sample)\n",
    "        waveform[climax_point:end_sample] = np.linspace(climax_am, cons_am, end_sample - climax_point )\n",
    "        print(waveform.dtype)\n",
    "        return waveform\n",
    "\n",
    "    def square_pulse(self, cons_am, climax_am, duration, start_time, end_time, samplerate): \n",
    "        t = np.linspace(0, duration, int(samplerate * duration))\n",
    "        waveform = np.full(t.shape, cons_am,dtype=np.float32)\n",
    "        start_sample = int(start_time * samplerate)\n",
    "        end_sample = int(end_time * samplerate)\n",
    "        waveform[start_sample:end_sample] = climax_am\n",
    "        return waveform\n",
    "    \n",
    "    def step_pulse(self, low_am, high_am, duration, change_time, samplerate):\n",
    "        t = np.linspace(0, duration, int(samplerate * duration))\n",
    "        waveform = np.zeros_like(t)\n",
    "        change_sample = int(change_time * samplerate)\n",
    "        waveform[0:change_sample] = low_am\n",
    "        waveform[change_sample:] = high_am\n",
    "        return waveform\n",
    "        \n",
    "    def generateWav(self,function, f_am, s_am, duration, start_time, end_time , sampleRate = 8820):\n",
    "        '''\n",
    "        this function is used to generate aperiodic waveform\n",
    "        :param function: parametrized function, triangle, square and step\n",
    "        :param f_am: if function = triangle or square, it stands for which amplitude the waveform in when not in the inpulse time, otherwise it stands for low amplitude that step wave has\n",
    "        :param s_am: if function = triangle or square, it stands for which amplitude the waveform in when in the inpulse time, otherwise it stands for high amplitude that step wave has\n",
    "        :param start_time: if function = triangle or square, it stands for the time that inpulse happens, otherwise it stands for\n",
    "        the time that step happens\n",
    "        :param end_time: step wave do not use this.\n",
    "        '''\n",
    "        \n",
    "        assert end_time >= start_time, \"end time must be larger than start time\"\n",
    "        assert end_time < duration, \"end time must be smaller than duration\"\n",
    "\n",
    "        if function == 'square':\n",
    "            waveform = self.square_pulse(f_am, s_am, duration, start_time, end_time, sampleRate)\n",
    "        elif function == \"triangle\":\n",
    "            waveform = self.triangle_pulse(f_am, s_am, duration, start_time, end_time,  sampleRate)\n",
    "        elif function == \"step\":\n",
    "            waveform = self.step_pulse(low_am = f_am, high_am = s_am, duration = duration, change_time = start_time, samplerate = sampleRate )\n",
    "        else:\n",
    "            raise ValueError(\"please input a valid function name\")\n",
    "        \n",
    "        return waveform\n"
   ],
   "metadata": {
    "collapsed": false,
    "ExecuteTime": {
     "end_time": "2024-06-07T15:51:31.912474400Z",
     "start_time": "2024-06-07T15:51:31.910352100Z"
    }
   },
   "id": "7f59f174afecf49f",
   "execution_count": 19
  },
  {
   "cell_type": "code",
   "outputs": [
    {
     "data": {
      "text/plain": "<Figure size 640x480 with 2 Axes>",
      "image/png": "[encoded data removed]"
     },
     "metadata": {},
     "output_type": "display_data"
    }
   ],
   "source": [
    "generator = WaveGenerator(13230)\n",
    "wave_1 = generator.generateComposition(\"chirp\",[\"sin\",\"sawtooth\", \"sin\"],[4373, 3468],[58, 87, 88],1, 193,method =\"linear\")\n",
    "# wave_2 = generator.generate(\"chirp\",\"sawtooth\",(40,20),10, 5, 0, method = \"hyperbolic\")\n",
    "# wave_4 = generator.generate(\"Tone\", \"square\", 100,20, 3, phase=0)\n",
    "# wave_3 = wave_1.superimpose([wave_1,wave_2])\n",
    "# wave_5 = wave_1.concat([wave_4,wave_3],[1,0])\n",
    "s = wave_1.spectrogram()\n",
    "wave_1.displayspectrogram(s)\n",
    "\n",
    "# wave_1.plot_waveform()"
   ],
   "metadata": {
    "collapsed": false,
    "ExecuteTime": {
     "end_time": "2024-06-07T15:51:32.073470Z",
     "start_time": "2024-06-07T15:51:31.914315300Z"
    }
   },
   "id": "63ea3c3485829c1d",
   "execution_count": 20
  },
  {
   "cell_type": "code",
   "outputs": [],
   "source": [
    "with open(\"template.json\",\"r\") as f:\n",
    "    t = json.load(f)\n",
    "\n",
    "seed = np.random.seed(0)\n",
    "\n",
    "\n",
    "class TextTemplate():\n",
    "    def __init__(self, template, seed):\n",
    "        self.template = template\n",
    "        self.seed = seed\n",
    "        \n",
    "    def generatetext(self, w: wave):\n",
    "        frequency_l = len(w.frequency)\n",
    "        trend = self.checktrend(w.frequency)\n",
    "        print(trend)\n",
    "        if frequency_l == 1:\n",
    "            trend = \"1\"\n",
    "            t_len = len(self.template[trend])\n",
    "            pick = self.generateint(t_len)\n",
    "            text = self.template[trend][pick].format(*w.frequency)\n",
    "            \n",
    "        else:\n",
    "            if frequency_l > 4:\n",
    "                raise ValueError(\"The maximum length of frequency is 4\")\n",
    "            else:\n",
    "                t_len = len(self.template[\"{}\".format(frequency_l)][trend])\n",
    "                pick = self.generateint(t_len)\n",
    "                text = self.template[\"{}\".format(frequency_l)][trend][pick].format(*w.frequency)\n",
    "        return text\n",
    "            \n",
    "            \n",
    "    def generateint(self, t_len):\n",
    "        return np.random.randint(0,t_len)\n",
    "    \n",
    "    def checktrend(self, frequencies: list):\n",
    "        trend = \"\"\n",
    "        for i in range(len(frequencies)-1):\n",
    "            if frequencies[i] < frequencies[i+1]:\n",
    "                trend +=\"u\"\n",
    "            else:\n",
    "                trend +=\"d\"\n",
    "        return trend"
   ],
   "metadata": {
    "collapsed": false,
    "ExecuteTime": {
     "end_time": "2024-06-04T15:52:57.547428100Z",
     "start_time": "2024-06-04T15:52:57.539163100Z"
    }
   },
   "id": "160b0c0c2e02a0",
   "execution_count": 7
  },
  {
   "cell_type": "code",
   "outputs": [
    {
     "name": "stdout",
     "output_type": "stream",
     "text": [
      "dud\n"
     ]
    },
    {
     "data": {
      "text/plain": "'The frequency of the audio file dropped from 10 Hz to 2 Hz, went up to 200 Hz, and then decreased to 100 Hz.'"
     },
     "execution_count": 32,
     "metadata": {},
     "output_type": "execute_result"
    }
   ],
   "source": [
    "template = TextTemplate(t, seed)\n",
    "text = template.generatetext(wave_5)\n",
    "text"
   ],
   "metadata": {
    "collapsed": false,
    "ExecuteTime": {
     "end_time": "2024-06-04T20:17:36.054855300Z",
     "start_time": "2024-06-04T20:17:36.004882800Z"
    }
   },
   "id": "b2c5be086415729a",
   "execution_count": 32
  },
  {
   "cell_type": "code",
   "outputs": [
    {
     "data": {
      "text/plain": "(0, 1)"
     },
     "execution_count": 21,
     "metadata": {},
     "output_type": "execute_result"
    }
   ],
   "source": [
    "a = np.random.randint(0, 4,size = (2))\n",
    "tuple(a)\n"
   ],
   "metadata": {
    "collapsed": false,
    "ExecuteTime": {
     "end_time": "2024-06-05T15:07:33.643580600Z",
     "start_time": "2024-06-05T15:07:33.593530800Z"
    }
   },
   "id": "e2e7f8fc2c19b929",
   "execution_count": 21
  },
  {
   "cell_type": "code",
   "outputs": [
    {
     "data": {
      "text/plain": "5117.092951626833"
     },
     "execution_count": 1,
     "metadata": {},
     "output_type": "execute_result"
    }
   ],
   "source": [
    "import math\n",
    "\n",
    "# 给定的频率\n",
    "frequency_hz = 2046\n",
    "\n",
    "# 转换为 Mel 频率\n",
    "mel_frequency = 2595 * math.log2(1 + frequency_hz / 700)\n",
    "\n",
    "mel_frequency"
   ],
   "metadata": {
    "collapsed": false,
    "ExecuteTime": {
     "end_time": "2024-06-06T21:54:36.712856400Z",
     "start_time": "2024-06-06T21:54:36.652955600Z"
    }
   },
   "id": "1aaa5c313a042a7c",
   "execution_count": 1
  },
  {
   "cell_type": "code",
   "outputs": [
    {
     "name": "stdout",
     "output_type": "stream",
     "text": [
      "<class 'list'>\n"
     ]
    }
   ],
   "source": [
    "import re\n",
    "\n",
    "def extract_numbers(input_string):\n",
    "    # 使用正则表达式查找所有数字\n",
    "    numbers = re.findall(r'\\d+', input_string)\n",
    "    # 将找到的数字转换为整数\n",
    "\n",
    "    return numbers\n",
    "\n",
    "# 示例字符串\n",
    "input_string = \"There are 2 apples, 5 oranges, and 10 bananas.\"\n",
    "\n",
    "# 提取数字\n",
    "numbers_list = extract_numbers(input_string)\n",
    "\n",
    "print(type(numbers_list))"
   ],
   "metadata": {
    "collapsed": false,
    "ExecuteTime": {
     "end_time": "2024-06-06T14:10:19.353334800Z",
     "start_time": "2024-06-06T14:10:19.301436Z"
    }
   },
   "id": "a38f70eeebb202b5",
   "execution_count": 33
  },
  {
   "cell_type": "code",
   "outputs": [],
   "source": [],
   "metadata": {
    "collapsed": false
   },
   "id": "c1bb269a3732fd9d"
  }
 ],
 "metadata": {
  "kernelspec": {
   "display_name": "Python 3",
   "language": "python",
   "name": "python3"
  },
  "language_info": {
   "codemirror_mode": {
    "name": "ipython",
    "version": 2
   },
   "file_extension": ".py",
   "mimetype": "text/x-python",
   "name": "python",
   "nbconvert_exporter": "python",
   "pygments_lexer": "ipython2",
   "version": "2.7.6"
  }
 },
 "nbformat": 4,
 "nbformat_minor": 5
}
